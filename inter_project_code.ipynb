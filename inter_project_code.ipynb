{
 "cells": [
  {
   "cell_type": "markdown",
   "metadata": {},
   "source": [
    "-----\n",
    "## Import Libraries\n",
    "-----"
   ]
  },
  {
   "cell_type": "code",
   "execution_count": 1,
   "metadata": {},
   "outputs": [],
   "source": [
    "import openai\n",
    "from openai import OpenAI\n",
    "import pandas as pd\n",
    "import numpy as np\n",
    "from sklearn.model_selection import train_test_split\n",
    "from sklearn.metrics import accuracy_score, classification_report, confusion_matrix, roc_auc_score\n",
    "import time\n",
    "import re\n",
    "import os\n",
    "from tqdm import tqdm\n",
    "import json\n",
    "import matplotlib.pyplot as plt\n",
    "import seaborn as sns\n",
    "from datetime import datetime"
   ]
  },
  {
   "cell_type": "markdown",
   "metadata": {},
   "source": [
    "----\n",
    "## Set OpenAI key as Environment and create OpenAI client\n",
    "----"
   ]
  },
  {
   "cell_type": "code",
   "execution_count": null,
   "metadata": {},
   "outputs": [],
   "source": [
    "# set the OPENAI API key as environment\n",
    "os.environ['OPENAI_API_KEY'] = \"Enter your key here\"\n",
    "\n",
    "# create an OPEMAI client instance for API calls\n",
    "client = OpenAI()"
   ]
  },
  {
   "cell_type": "markdown",
   "metadata": {},
   "source": [
    "----\n",
    "## Load and Preprocess Data\n",
    "----"
   ]
  },
  {
   "cell_type": "code",
   "execution_count": 3,
   "metadata": {},
   "outputs": [],
   "source": [
    "def load_data(file_name, limit=100):\n",
    "    \"\"\"\n",
    "    Load and prepare the dataset, limited to specified number of rows\n",
    "    \n",
    "    Args:\n",
    "        file_path: Path to CSV file\n",
    "        limit: Maximum number of rows to use (equally divided between classes)\n",
    "        \n",
    "    Returns:\n",
    "        DataFrame with balanced samples\n",
    "    \"\"\"\n",
    "    # Read the csv file into a dataframe\n",
    "    df = pd.read_csv(file_name)\n",
    "    \n",
    "    # Check and standardize column names\n",
    "    df['label'] = df['generated'].map({0: 'Human', 1: 'AI'})\n",
    "  \n",
    "    # Limit to balanced sample of 100 rows\n",
    "    samples_per_class = limit // 2\n",
    "    \n",
    "    # Create separate dataframes based on the label\n",
    "    human_df = df[df['label'] == 'Human']\n",
    "    ai_df = df[df['label'] == 'AI']\n",
    "    \n",
    "    # Sample equally from each class\n",
    "    human_sample = human_df.sample(samples_per_class, random_state=42)\n",
    "    ai_sample = ai_df.sample(samples_per_class, random_state=42)\n",
    "    \n",
    "    # Combine and shuffle\n",
    "    balanced_df = pd.concat([human_sample, ai_sample]).sample(frac=1, random_state=42)\n",
    "    \n",
    "    print(f\"Loaded {len(balanced_df)} rows ({samples_per_class} from each class)\")\n",
    "    \n",
    "    return balanced_df\n"
   ]
  },
  {
   "cell_type": "code",
   "execution_count": null,
   "metadata": {},
   "outputs": [
    {
     "name": "stdout",
     "output_type": "stream",
     "text": [
      "Loaded 100 rows (50 from each class)\n"
     ]
    }
   ],
   "source": [
    "# Create a dataframe using load_data function\n",
    "df = load_data('AI_Human.csv')"
   ]
  },
  {
   "cell_type": "markdown",
   "metadata": {},
   "source": [
    "----\n",
    "## Create a function to give prompt and call the API\n",
    "----"
   ]
  },
  {
   "cell_type": "code",
   "execution_count": null,
   "metadata": {},
   "outputs": [],
   "source": [
    "def call_api(text, client, model=\"gpt-4o\"):\n",
    "    \"\"\"\n",
    "    Classify text as Human or AI written with confidence score\n",
    "    \n",
    "    Args:\n",
    "        text: The text to classify\n",
    "        client: OpenAI client instance\n",
    "        model: Which OpenAI model to use\n",
    "        \n",
    "    Returns:\n",
    "        tuple: (verdict, confidence_score, response_content)\n",
    "    \"\"\"\n",
    "    # Provide instructions to the model to provide evidence for both Human and AI authorship, a confidence score and final verdict in the prompt\n",
    "    prompt = f\"\"\"Analyze whether this text was written by a human or AI. \n",
    "    \n",
    "    Text: {text}\n",
    "    \n",
    "    First, list specific evidence that suggests human authorship.\n",
    "    Second, list specific evidence that suggests AI authorship.\n",
    "    Third, provide a confidence score from 0-100 (where 0 is definitely human, 100 is definitely AI).\n",
    "    Finally, provide your verdict: 'Human' or 'AI'.\n",
    "    \n",
    "    Format your answer exactly like this:\n",
    "    Evidence for human:\n",
    "    - point 1\n",
    "    - point 2\n",
    "    \n",
    "    Evidence for AI:\n",
    "    - point 1\n",
    "    - point 2\n",
    "    \n",
    "    Confidence: [0-100]\n",
    "    \n",
    "    Verdict: Human/AI\"\"\"\n",
    "    \n",
    "    messages = [\n",
    "        {\"role\": \"system\", \"content\": \"You are an expert at detecting AI-generated text.\"},\n",
    "        {\"role\": \"user\", \"content\": prompt}\n",
    "    ]\n",
    "    \n",
    "    try:\n",
    "        response = client.chat.completions.create(\n",
    "            model=model,\n",
    "            messages=messages,\n",
    "            temperature=0\n",
    "        )\n",
    "        \n",
    "        result = response.choices[0].message.content\n",
    "        \n",
    "        # Extract confidence using regex\n",
    "        confidence_match = re.search(r'Confidence:\\s*(\\d+)', result)\n",
    "        if confidence_match:\n",
    "            confidence = int(confidence_match.group(1))\n",
    "        else:\n",
    "            # If extraction fails, default to a confidence score of 0\n",
    "            confidence = 50  # Default to uncertain\n",
    "        \n",
    "        # Extract verdict using regex\n",
    "        verdict_match = re.search(r'Verdict:\\s*(Human|AI)', result)\n",
    "        if verdict_match:\n",
    "            verdict = verdict_match.group(1)\n",
    "        else:\n",
    "            # Fallback parsing\n",
    "            verdict = \"AI\" if \"AI\" in result.split(\"\\n\")[-1] else \"Human\"\n",
    "        \n",
    "        return verdict, confidence, result\n",
    "        \n",
    "    except Exception as e:\n",
    "        print(f\"Error in API call: {e}\")\n",
    "        return \"Error\", 0, str(e)\n"
   ]
  },
  {
   "cell_type": "markdown",
   "metadata": {},
   "source": [
    "----\n",
    "## Create a function to classify the dataset and store final results in a results datarame and output of the model in a cache file\n",
    "----"
   ]
  },
  {
   "cell_type": "code",
   "execution_count": 15,
   "metadata": {},
   "outputs": [],
   "source": [
    "def classify_dataset(df, client, model=\"gpt-4o\", cache_file = None):\n",
    "    \"\"\"\n",
    "    Classify texts in a dataframe\n",
    "    \n",
    "    Args:\n",
    "        df: DataFrame with 'text' column\n",
    "        client: OpenAI client\n",
    "        model: Which model to use\n",
    "        cache_file: File to cache results to avoid redundant API calls\n",
    "        \n",
    "    Returns:\n",
    "        DataFrame with classification results\n",
    "    \"\"\"\n",
    "    # Create a copy of the input dataframe to add classification results\n",
    "    cache = {}\n",
    "    results_df = df.copy()\n",
    "\n",
    "    # Load cache if it exists\n",
    "    cache = {}\n",
    "    if cache_file and os.path.exists(cache_file):\n",
    "        try:\n",
    "            with open(cache_file, 'r') as f:\n",
    "                cache = json.load(f)\n",
    "            print(f\"Loaded {len(cache)} cached results\")\n",
    "        except:\n",
    "            print(\"Error loading cache, starting fresh\")\n",
    "            cache = {}\n",
    "    \n",
    "    # Initialize columns for storing the results\n",
    "    results_df['predicted'] = None\n",
    "    results_df['confidence'] = None\n",
    "    results_df['api_response'] = None\n",
    "    \n",
    "    # Iterate over each row of the dataframe with a progress bar showed using tqdm to process each text\n",
    "    for idx, row in tqdm(results_df.iterrows(), total=len(results_df), desc=\"Classifying texts\"):\n",
    "        unique_id = str(hash(row['text']))  # Create a unique ID for each text\n",
    "        if unique_id in cache:\n",
    "        # Retrieve the previously stored result if available\n",
    "            verdict, confidence, response = cache[unique_id]\n",
    "        else:\n",
    "            # Otherwise, call the API to classify the text and save the result\n",
    "            verdict, confidence, response = call_api(row['text'], client, model=model)\n",
    "            cache[unique_id] = (verdict, confidence, response)\n",
    "            # Optionally, update the cache file every 5 new results (to save progress)\n",
    "            if cache_file and (len(cache) % 5 == 0):\n",
    "                with open(cache_file, 'w') as f:\n",
    "                    json.dump(cache, f)\n",
    "            time.sleep(3)  # Pause to respect API rate limits\n",
    "        # Save the classification results (verdict and confidence) in our results table\n",
    "        results_df.at[idx, 'predicted'] = verdict\n",
    "        results_df.at[idx, 'confidence'] = confidence\n",
    "        results_df.at[idx, 'api_response'] = response\n",
    "\n",
    "    # After processing all texts, save the cache to a file (if used)\n",
    "    if cache_file:\n",
    "        with open(cache_file, 'w') as f:\n",
    "            json.dump(cache, f)\n",
    "    \n",
    "    return results_df"
   ]
  },
  {
   "cell_type": "code",
   "execution_count": null,
   "metadata": {},
   "outputs": [
    {
     "name": "stderr",
     "output_type": "stream",
     "text": [
      "Classifying texts: 100%|██████████| 100/100 [11:17<00:00,  6.78s/it]\n"
     ]
    }
   ],
   "source": [
    "results_df = classify_dataset(df, client) # run the classify_dataset function and generate the results dataframe"
   ]
  },
  {
   "cell_type": "markdown",
   "metadata": {},
   "source": [
    "----\n",
    "## Create a function to evaluate results of the model\n",
    "----"
   ]
  },
  {
   "cell_type": "code",
   "execution_count": 17,
   "metadata": {},
   "outputs": [],
   "source": [
    "def evaluate_results(results_df):\n",
    "    \"\"\"Evaluate the classification results\"\"\"\n",
    "    # Filter out rows where predictions resulted in an error\n",
    "    valid_results = results_df[results_df['predicted'] != 'Error'].copy()\n",
    "    \n",
    "    # Calculate metrics\n",
    "    accuracy = accuracy_score(valid_results['label'], valid_results['predicted'])\n",
    "    \n",
    "    # For ROC AUC, convert confidence to a score where higher means more likely AI\n",
    "    # 0 confidence = definitely human, 100 confidence = definitely AI\n",
    "    valid_results['ai_score'] = valid_results['confidence'] / 100.0\n",
    "    \n",
    "    # Convert true labels to binary for ROC calculation\n",
    "    valid_results['true_binary'] = (valid_results['label'] == 'AI').astype(int)\n",
    "    \n",
    "    # Calculate ROC AUC\n",
    "    roc_auc = roc_auc_score(valid_results['true_binary'], valid_results['ai_score'])\n",
    "    \n",
    "    # Get classification report\n",
    "    report = classification_report(valid_results['label'], valid_results['predicted'])\n",
    "    \n",
    "    # Get confusion matrix\n",
    "    cm = confusion_matrix(valid_results['label'], valid_results['predicted'], labels=['Human', 'AI'])\n",
    "    \n",
    "    return {\n",
    "        'accuracy': accuracy,\n",
    "        'roc_auc': roc_auc,\n",
    "        'classification_report': report,\n",
    "        'confusion_matrix': cm,\n",
    "        'valid_sample_size': len(valid_results),\n",
    "        'error_count': len(results_df) - len(valid_results)\n",
    "    }"
   ]
  },
  {
   "cell_type": "code",
   "execution_count": null,
   "metadata": {},
   "outputs": [],
   "source": [
    "evaluation = evaluate_results(results_df) # create a new variable to store all the metrics"
   ]
  },
  {
   "cell_type": "markdown",
   "metadata": {},
   "source": [
    "----\n",
    "## Print out the metrics and the classification report\n",
    "----"
   ]
  },
  {
   "cell_type": "code",
   "execution_count": 19,
   "metadata": {},
   "outputs": [
    {
     "name": "stdout",
     "output_type": "stream",
     "text": [
      "\n",
      "===== RESULTS =====\n",
      "Accuracy: 0.7500\n",
      "ROC AUC: 0.8464\n",
      "Valid samples: 100\n",
      "Errors: 0\n",
      "\n",
      "Classification Report:\n",
      "              precision    recall  f1-score   support\n",
      "\n",
      "          AI       0.69      0.90      0.78        50\n",
      "       Human       0.86      0.60      0.71        50\n",
      "\n",
      "    accuracy                           0.75       100\n",
      "   macro avg       0.77      0.75      0.74       100\n",
      "weighted avg       0.77      0.75      0.74       100\n",
      "\n"
     ]
    }
   ],
   "source": [
    " # Print summary\n",
    "print(\"\\n===== RESULTS =====\")\n",
    "print(f\"Accuracy: {evaluation['accuracy']:.4f}\")\n",
    "print(f\"ROC AUC: {evaluation['roc_auc']:.4f}\")\n",
    "print(f\"Valid samples: {evaluation['valid_sample_size']}\")\n",
    "print(f\"Errors: {evaluation['error_count']}\")\n",
    "print(\"\\nClassification Report:\")\n",
    "print(evaluation['classification_report'])"
   ]
  },
  {
   "cell_type": "code",
   "execution_count": 20,
   "metadata": {},
   "outputs": [
    {
     "data": {
      "image/png": "[encoded data removed]",
      "text/plain": [
       "<Figure size 640x480 with 2 Axes>"
      ]
     },
     "metadata": {},
     "output_type": "display_data"
    }
   ],
   "source": [
    "# Plot confusion matrix\n",
    "sns.heatmap(evaluation['confusion_matrix'], annot=True, fmt='d', \n",
    "                xticklabels=['Human', 'AI'], yticklabels=['Human', 'AI'],cmap='Blues')\n",
    "plt.title('Confusion Matrix')\n",
    "plt.ylabel('True Label')\n",
    "plt.xlabel('Predicted Label')\n",
    "plt.show()"
   ]
  },
  {
   "cell_type": "markdown",
   "metadata": {},
   "source": [
    "----\n",
    "## Write the results dataframe to a CSV file\n",
    "----"
   ]
  },
  {
   "cell_type": "code",
   "execution_count": 21,
   "metadata": {},
   "outputs": [],
   "source": [
    " # Save results\n",
    "results_df.to_csv(\"classification_results_caching.csv\", index=False)"
   ]
  },
  {
   "cell_type": "markdown",
   "metadata": {},
   "source": [
    "----\n",
    "## Validate the model results by calling the cache file created to save the model outputs\n",
    "----"
   ]
  },
  {
   "cell_type": "code",
   "execution_count": 33,
   "metadata": {},
   "outputs": [
    {
     "name": "stdout",
     "output_type": "stream",
     "text": [
      "Random Text Key: -5051923105673325132\n",
      "Final Verdict: AI\n",
      "Confidence Score: 60\n",
      "\n",
      "Evidence for Human:\n",
      "No evidence found for Human.\n",
      "\n",
      "Evidence for AI:\n",
      "- The repetition of the phrase \"there is no onesizefitsall approach to positivity\" could suggest AI authorship, as AI sometimes repeats phrases due to its training on large datasets.\n",
      "- The text contains a minor typo \"onesizefitsall\" which should be \"one-size-fits-all\". This could be a result of AI not recognizing the need for hyphenation in this compound adjective.\n",
      "- The text lacks a certain depth of emotion or personal experience, which could suggest AI authorship.\n",
      "\n",
      "--------------------------------------------------\n",
      "\n",
      "Random Text Key: 8191352326853930504\n",
      "Final Verdict: AI\n",
      "Confidence Score: 95\n",
      "\n",
      "Evidence for Human:\n",
      "No evidence found for Human.\n",
      "\n",
      "Evidence for AI:\n",
      "- There are numerous instances of nonsensical abbreviations and phrases such as \"TWD policy's\", \"TD NDT\", \"Due cell phones\", \"DFF\", \"DN\", \"FDR\", \"fine\", \"Dan't\", \"fellow\", which do not make sense in the context and are not common English language errors.\n",
      "- The text contains a misspelling of the word \"principal\" as \"principle\", which is a common mistake made by AI due to the phonetic similarity of the words.\n",
      "- The sign-off is \"STUDENT_NAME\", which suggests a placeholder that an AI failed to replace with an actual name.\n",
      "\n",
      "--------------------------------------------------\n",
      "\n",
      "Random Text Key: 1325620857971112014\n",
      "Final Verdict: Error\n",
      "Confidence Score: 0\n",
      "\n",
      "Evidence for Human:\n",
      "No evidence found for Human.\n",
      "\n",
      "Evidence for AI:\n",
      "No evidence found for AI.\n",
      "\n",
      "--------------------------------------------------\n",
      "\n",
      "Random Text Key: -3477074277192768702\n",
      "Final Verdict: Error\n",
      "Confidence Score: 0\n",
      "\n",
      "Evidence for Human:\n",
      "No evidence found for Human.\n",
      "\n",
      "Evidence for AI:\n",
      "No evidence found for AI.\n",
      "\n",
      "--------------------------------------------------\n",
      "\n",
      "Random Text Key: -8474172814140140069\n",
      "Final Verdict: AI\n",
      "Confidence Score: 60\n",
      "\n",
      "Evidence for Human:\n",
      "No evidence found for Human.\n",
      "\n",
      "Evidence for AI:\n",
      "- The text repeats certain phrases and structures, such as \"Like, they might...\" and \"So, it's important to take their advice with a grain of salt.\" This could suggest an AI's pattern recognition.\n",
      "- The text ends abruptly, which could be a sign of an AI not being programmed to provide a proper conclusion.\n",
      "- The text uses the phrase \"key there, folks!\" which seems like a misinterpretation of the common phrase \"Hey there, folks!\" This could be a sign of AI misunderstanding or misusing idioms.\n",
      "\n",
      "--------------------------------------------------\n",
      "\n"
     ]
    }
   ],
   "source": [
    "import json\n",
    "import random\n",
    "import re\n",
    "\n",
    "# Load the existing cache file (assuming it's named \"response_cache.json\")\n",
    "cache_file = \"response_cache.json\"\n",
    "with open(cache_file, \"r\") as f:\n",
    "    cache = json.load(f)\n",
    "\n",
    "# Randomly select 5 keys from the cache\n",
    "random_keys = random.sample(list(cache.keys()), 5)\n",
    "\n",
    "for key in random_keys:\n",
    "    verdict, confidence, response = cache[key]\n",
    "    \n",
    "    # Extract evidence for Human and AI using regular expressions\n",
    "    evidence_human_match = re.search(r\"Evidence for Human:\\s*(.*?)\\s*Evidence for AI:\", response, re.DOTALL)\n",
    "    evidence_ai_match = re.search(r\"Evidence for AI:\\s*(.*?)\\s*Confidence:\", response, re.DOTALL)\n",
    "    \n",
    "    evidence_human = evidence_human_match.group(1).strip() if evidence_human_match else \"No evidence found for Human.\"\n",
    "    evidence_ai = evidence_ai_match.group(1).strip() if evidence_ai_match else \"No evidence found for AI.\"\n",
    "    \n",
    "    # Print the results for each random text\n",
    "    print(\"Random Text Key:\", key)\n",
    "    print(\"Final Verdict:\", verdict)\n",
    "    print(\"Confidence Score:\", confidence)\n",
    "    print(\"\\nEvidence for Human:\")\n",
    "    print(evidence_human)\n",
    "    print(\"\\nEvidence for AI:\")\n",
    "    print(evidence_ai)\n",
    "    print(\"\\n\" + \"-\"*50 + \"\\n\")\n"
   ]
  },
  {
   "cell_type": "code",
   "execution_count": null,
   "metadata": {},
   "outputs": [],
   "source": []
  }
 ],
 "metadata": {
  "kernelspec": {
   "display_name": "base",
   "language": "python",
   "name": "python3"
  },
  "language_info": {
   "codemirror_mode": {
    "name": "ipython",
    "version": 3
   },
   "file_extension": ".py",
   "mimetype": "text/x-python",
   "name": "python",
   "nbconvert_exporter": "python",
   "pygments_lexer": "ipython3",
   "version": "3.12.4"
  }
 },
 "nbformat": 4,
 "nbformat_minor": 2
}
